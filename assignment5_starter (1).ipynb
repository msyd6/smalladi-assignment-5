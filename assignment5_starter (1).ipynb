{
 "cells": [
  {
   "cell_type": "code",
   "execution_count": 57,
   "metadata": {},
   "outputs": [],
   "source": [
    "import numpy as np\n",
    "import pandas as pd"
   ]
  },
  {
   "cell_type": "code",
   "execution_count": 58,
   "metadata": {},
   "outputs": [],
   "source": [
    "import numpy as np\n",
    "from collections import Counter\n",
    "\n",
    "class KNN:\n",
    "    def __init__(self, k=3, distance_metric='euclidean'):\n",
    "        self.k = k\n",
    "        self.distance_metric = distance_metric\n",
    "\n",
    "    def fit(self, X, y):\n",
    "        self.X_train = np.array(X)\n",
    "        self.y_train = np.array(y)\n",
    "\n",
    "    def compute_distance(self, X1, X2):\n",
    "        if self.distance_metric == 'euclidean':\n",
    "            return np.sqrt(np.sum((X1[:, np.newaxis, :] - X2) ** 2, axis=2))\n",
    "\n",
    "    def predict(self, X):\n",
    "        X = np.array(X)\n",
    "        distances = self.compute_distance(X, self.X_train)\n",
    "        k_indices = np.argsort(distances, axis=1)[:, :self.k]\n",
    "        k_labels = self.y_train[k_indices]\n",
    "        return np.array([Counter(k).most_common(1)[0][0] for k in k_labels])\n"
   ]
  },
  {
   "cell_type": "code",
   "execution_count": 59,
   "metadata": {},
   "outputs": [],
   "source": [
    "from sklearn.preprocessing import StandardScaler, OneHotEncoder\n",
    "from sklearn.compose import ColumnTransformer\n",
    "from sklearn.impute import SimpleImputer\n",
    "from sklearn.pipeline import Pipeline\n",
    "\n",
    "\n",
    "# Define the paths to your dataset\n",
    "train_path = 'train.csv'\n",
    "test_path = 'test.csv'\n",
    "\n",
    "def preprocess_data(train_path, test_path):\n",
    "    # Load the data\n",
    "    train_data = pd.read_csv(train_path)\n",
    "    test_data = pd.read_csv(test_path)\n",
    "    \n",
    "    # Separate features and labels\n",
    "    y_train = train_data['Exited']\n",
    "    X_train = train_data.drop(columns=['Exited', 'id', 'Surname'])\n",
    "    X_test = test_data.drop(columns=['id', 'Surname'])\n",
    "    \n",
    "    # Numeric and categorical columns\n",
    "    numeric_cols = X_train.select_dtypes(include=['int64', 'float64']).columns\n",
    "    categorical_cols = X_train.select_dtypes(include=['object']).columns\n",
    "    \n",
    "    # Preprocessing for numerical data\n",
    "    numeric_transformer = Pipeline(steps=[\n",
    "        ('imputer', SimpleImputer(strategy='median')),\n",
    "        ('scaler', StandardScaler())])\n",
    "    \n",
    "    # Preprocessing for categorical data\n",
    "    categorical_transformer = Pipeline(steps=[\n",
    "        ('imputer', SimpleImputer(strategy='constant', fill_value='missing')),\n",
    "        ('onehot', OneHotEncoder(handle_unknown='ignore'))])\n",
    "    \n",
    "    # Bundle preprocessing for numerical and categorical data\n",
    "    preprocessor = ColumnTransformer(\n",
    "        transformers=[\n",
    "            ('num', numeric_transformer, numeric_cols),\n",
    "            ('cat', categorical_transformer, categorical_cols)])\n",
    "    \n",
    "    # Apply preprocessing\n",
    "    X_train = preprocessor.fit_transform(X_train)\n",
    "    X_test = preprocessor.transform(X_test)\n",
    "    \n",
    "    return X_train, y_train, X_test\n"
   ]
  },
  {
   "cell_type": "code",
   "execution_count": 63,
   "metadata": {},
   "outputs": [],
   "source": [
    "from sklearn.preprocessing import StandardScaler, MinMaxScaler\n",
    "from sklearn.model_selection import train_test_split\n",
    "\n",
    "# Define the paths to your dataset\n",
    "train_path = 'train.csv'\n",
    "test_path = 'test.csv'\n",
    "\n",
    "def preprocess_data(train_path, test_path):\n",
    "    # Load the data\n",
    "    train_data = pd.read_csv(train_path)\n",
    "    test_data = pd.read_csv(test_path)\n",
    "\n",
    "def feature_engineering(data):\n",
    "    # New feature based on the interaction between balance and number of products\n",
    "    data['Balance_per_Product'] = data['Balance'] / (data['NumOfProducts'] + 1)\n",
    "    data['Age*CreditScore'] = data['Age'] * data['CreditScore']\n",
    "    \n",
    "    # Scale features\n",
    "    scaler = MinMaxScaler()\n",
    "    numerical_features = ['CreditScore', 'Age', 'Tenure', 'Balance', 'NumOfProducts', 'EstimatedSalary', 'Balance_per_Product', 'Age*CreditScore']\n",
    "    data[numerical_features] = scaler.fit_transform(data[numerical_features])\n",
    "    \n",
    "    return data\n",
    "\n",
    "# Assuming you have loaded your dataset into `train_data` and `test_data`\n",
    "train_data = feature_engineering(train_data)\n",
    "test_data = feature_engineering(test_data)\n"
   ]
  },
  {
   "cell_type": "code",
   "execution_count": 61,
   "metadata": {},
   "outputs": [],
   "source": [
    "from sklearn.model_selection import KFold\n",
    "from sklearn.metrics import roc_auc_score\n",
    "\n",
    "def cross_validate(X, y, model, n_splits=5):\n",
    "    kf = KFold(n_splits=n_splits, random_state=42, shuffle=True)\n",
    "    scores = []\n",
    "    \n",
    "    for train_index, test_index in kf.split(X):\n",
    "        X_train, X_test = X[train_index], X[test_index]\n",
    "        y_train, y_test = y[train_index], y[test_index]\n",
    "        \n",
    "        model.fit(X_train, y_train)\n",
    "        predictions = model.predict(X_test)\n",
    "        score = roc_auc_score(y_test, predictions)\n",
    "        scores.append(score)\n",
    "    \n",
    "    return np.mean(scores)\n"
   ]
  },
  {
   "cell_type": "code",
   "execution_count": 62,
   "metadata": {},
   "outputs": [
    {
     "name": "stdout",
     "output_type": "stream",
     "text": [
      "Cross-validation scores: 0.7727432473051843\n"
     ]
    }
   ],
   "source": [
    "# Load and preprocess data\n",
    "X, y, X_test = preprocess_data('train.csv', 'test.csv')\n",
    "\n",
    "# Create and evaluate model\n",
    "knn = KNN(k=5, distance_metric='euclidean')\n",
    "\n",
    "# Perform cross-validation\n",
    "cv_scores = cross_validate(X, y, knn)\n",
    "print(\"Cross-validation scores:\", cv_scores)\n",
    "\n",
    "# Train on full dataset with optimal hyperparameters\n",
    "knn.fit(X, y)\n",
    "test_predictions = knn.predict(X_test)\n",
    "\n",
    "# Load test identifiers\n",
    "test_data = pd.read_csv('test.csv')\n",
    "test_ids = test_data[['id', 'CustomerId']]  # Assuming 'ID' is the column name for the general identifier\n",
    "\n",
    "# Create the submission DataFrame using both CustomerId and ID\n",
    "submission = pd.DataFrame({\n",
    "    'id': test_ids['id'],\n",
    "    'Exited': test_predictions\n",
    "})\n",
    "submission.to_csv('submissions.csv', index=False)\n"
   ]
  }
 ],
 "metadata": {
  "kernelspec": {
   "display_name": "Python 3",
   "language": "python",
   "name": "python3"
  },
  "language_info": {
   "codemirror_mode": {
    "name": "ipython",
    "version": 3
   },
   "file_extension": ".py",
   "mimetype": "text/x-python",
   "name": "python",
   "nbconvert_exporter": "python",
   "pygments_lexer": "ipython3",
   "version": "3.9.6"
  }
 },
 "nbformat": 4,
 "nbformat_minor": 2
}
